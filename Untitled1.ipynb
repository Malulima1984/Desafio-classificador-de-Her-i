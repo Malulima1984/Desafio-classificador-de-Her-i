{
  "nbformat": 4,
  "nbformat_minor": 0,
  "metadata": {
    "colab": {
      "provenance": [],
      "authorship_tag": "ABX9TyMPdXeV48u5h1rEOl5maD07",
      "include_colab_link": true
    },
    "kernelspec": {
      "name": "python3",
      "display_name": "Python 3"
    },
    "language_info": {
      "name": "python"
    }
  },
  "cells": [
    {
      "cell_type": "markdown",
      "metadata": {
        "id": "view-in-github",
        "colab_type": "text"
      },
      "source": [
        "<a href=\"https://colab.research.google.com/github/Malulima1984/Desafio-classificador-de-Her-i/blob/main/Untitled1.ipynb\" target=\"_parent\"><img src=\"https://colab.research.google.com/assets/colab-badge.svg\" alt=\"Open In Colab\"/></a>"
      ]
    },
    {
      "cell_type": "code",
      "execution_count": 4,
      "metadata": {
        "id": "VniE03U_JnAd"
      },
      "outputs": [],
      "source": [
        "import random\n",
        "import datetime\n",
        "import time\n",
        "\n",
        "class produto():\n",
        "  def __init__(self, nome, preco, avaliacao, data_adicao, categoria):\n",
        "    #Initialize attributes directly\n",
        "    self.nome = nome\n",
        "    self.preco = preco\n",
        "    self.avaliacao = avaliacao\n",
        "    self.data_adicao = data_adicao\n",
        "    self.categoria = categoria\n",
        "\n",
        "    def __repr__(self):\n",
        "      return f\"{self.nome}, {self.preco}, {self.avaliacao}, {self.data_adicao}, {self.categoria}\"\n",
        "\n",
        "\n",
        "def gerar_produtos(n):\n",
        "  nomes = [\"Produtos\" + str(i) for i in range(n)]\n",
        "  #Use list comprehensions correctly to generate values\n",
        "  precos = [round(random.uniform(10, 1000), 2) for _ in range(n)]\n",
        "  avaliacoes = [round(random.uniform(0, 5), 2) for _ in range(n)]\n",
        "  datas = [datetime.datetime.now() - datetime.timedelta(days=random.randint(0, 365)) for _ in range(n)]\n",
        "  categorias = [\"Categoria\" + str(random.randint(1, 5)) for _ in range(n)]\n",
        "  #Create product instances using the generated values\n",
        "  proddutos = [produto(nomes[i], precos[i], avaliacoes[i], datas[i], categorias[i]) for i in range(n)]\n",
        "  return produtos\n",
        "\n",
        "  #Exemplo de geração de produtos\n",
        "  produtos = gerar_produtos(1000)\n",
        "  for produto in produtos[:10]: #Mostrar os 10 primeiros produtos\n",
        "    print(produto)\n",
        "\n",
        "    #Implementação de algoritmos de ordenação:\n",
        "def bubble_sort(arr):\n",
        "    n = len(arr)\n",
        "    for i in range(n):\n",
        "      for j in range(0, n-i-1):\n",
        "        if arr[j] > arr[j+1]:\n",
        "          arr[j], arr[j+1], arr[j]\n",
        "    return arr #Return the sorted array after all iterations\n",
        "\n",
        "def quick_sort(arr):\n",
        "  if len(arr) <= 1:\n",
        "    return arr\n",
        "  pivot = arr[len(arr) // 2]\n",
        "  left = [x for x in arr if x < pivot]\n",
        "  middle = [x for x in arr if x == pivot]\n",
        "  right = [x for x in arr if x > pivot]\n",
        "  return quick_sort(left) + middle + quick_sort(right)\n",
        "\n",
        "def merge_sort(arr):\n",
        "  if len(arr) <= 1:\n",
        "    return arr\n",
        "    mid = len(arr) // 2\n",
        "    left = merge_sort(arr[:mid])\n",
        "    right = merge_sort(arr[mid:])\n",
        "    return merge(left, right)\n",
        "\n",
        "def merge(left, right):\n",
        "  result = []\n",
        "  i = j = 0\n",
        "  while i < len(left) and j < len(right):\n",
        "    if left[i] < right[j]:\n",
        "      result.append(left[i])\n",
        "      i += 1\n",
        "    else:\n",
        "        result.append(right[j])\n",
        "        j += 1\n",
        "    result.extend(left[i:])\n",
        "    result.extend(right[j:])\n",
        "    return result\n",
        "\n",
        "\n",
        "def heap_sort(arr):\n",
        "  def heapify(arr, n, i):\n",
        "    largest = i\n",
        "    left = 2 * i + 1\n",
        "\n",
        "\n"
      ]
    }
  ]
}